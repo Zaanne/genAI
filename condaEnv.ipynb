{
 "cells": [
  {
   "cell_type": "markdown",
   "id": "02437f33-5a58-4f7e-87a6-15720d3ed91e",
   "metadata": {},
   "source": [
    "<h3>What is it?</h3>\n",
    "<span>A Conda environment is an isolated, self-contained directory with its own specific Python version, libraries, and dependencies, allowing you to manage and switch between different project environments without conflicts</span>"
   ]
  },
  {
   "cell_type": "markdown",
   "id": "369141cf-416b-4977-bb59-9b2c8f4755b0",
   "metadata": {},
   "source": [
    "<h3>Create a conda environment</h3>\n",
    "<span>conda create --name envNameHere python=3.8</span>"
   ]
  },
  {
   "cell_type": "markdown",
   "id": "16e6d733-f0e2-43ee-a69e-21a9bb62926d",
   "metadata": {},
   "source": [
    "<h3>Activate the conda environment</h3>\n",
    "<span>conda activate envNameHere</span>"
   ]
  },
  {
   "cell_type": "markdown",
   "id": "691b67ef-e8e7-490c-9d14-344159885265",
   "metadata": {},
   "source": [
    "<h3>Install packages in the conda environment</h3>\n",
    "<span>conda install packageName</span>"
   ]
  },
  {
   "cell_type": "markdown",
   "id": "bacf0bf5-f85f-47f6-9d5a-0a1f8ff566f3",
   "metadata": {},
   "source": [
    "<h3>Deactivate the conda environment</h3>\n",
    "<span>conda deactivate</span>"
   ]
  }
 ],
 "metadata": {
  "kernelspec": {
   "display_name": "Python 3 (ipykernel)",
   "language": "python",
   "name": "python3"
  },
  "language_info": {
   "codemirror_mode": {
    "name": "ipython",
    "version": 3
   },
   "file_extension": ".py",
   "mimetype": "text/x-python",
   "name": "python",
   "nbconvert_exporter": "python",
   "pygments_lexer": "ipython3",
   "version": "3.11.5"
  }
 },
 "nbformat": 4,
 "nbformat_minor": 5
}
